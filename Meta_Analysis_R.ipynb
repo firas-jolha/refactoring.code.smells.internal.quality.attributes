{
  "cells": [
    {
      "cell_type": "markdown",
      "metadata": {
        "id": "6HMPHG_41y1V"
      },
      "source": [
        "Install required packages"
      ]
    },
    {
      "cell_type": "code",
      "execution_count": 3,
      "metadata": {
        "colab": {
          "base_uri": "https://localhost:8080/"
        },
        "id": "KZsfrT4t0H3C",
        "outputId": "dc4dec76-2a55-4e1c-99ac-70d5efd05efb"
      },
      "outputs": [
        {
          "output_type": "stream",
          "name": "stderr",
          "text": [
            "Installing package into ‘/usr/local/lib/R/site-library’\n",
            "(as ‘lib’ is unspecified)\n",
            "\n",
            "Skipping install of 'meta' from a github remote, the SHA1 (511c76c8) has not changed since last install.\n",
            "  Use `force = TRUE` to force installation\n",
            "\n"
          ]
        }
      ],
      "source": [
        "install.packages(\"devtools\")\n",
        "devtools::install_github(\"guido-s/meta\")\n",
        "\n",
        "library(meta)\n",
        "# library(metafor)"
      ]
    },
    {
      "cell_type": "markdown",
      "metadata": {
        "id": "bj0dzMMC2oft"
      },
      "source": [
        "Read data from csv file"
      ]
    },
    {
      "cell_type": "code",
      "execution_count": 5,
      "metadata": {
        "colab": {
          "base_uri": "https://localhost:8080/",
          "height": 306
        },
        "id": "vNL50kqG1yMS",
        "outputId": "c657014c-b386-4303-ca37-1893732a31eb"
      },
      "outputs": [
        {
          "output_type": "display_data",
          "data": {
            "text/html": [
              "<table class=\"dataframe\">\n",
              "<caption>A data.frame: 5 × 9</caption>\n",
              "<thead>\n",
              "\t<tr><th scope=col>Study</th><th scope=col>Year</th><th scope=col>num_methods_before</th><th scope=col>num_methods_after</th><th scope=col>mean_before</th><th scope=col>std_before</th><th scope=col>mean_after</th><th scope=col>std_after</th><th scope=col>type</th></tr>\n",
              "\t<tr><th scope=col>&lt;chr&gt;</th><th scope=col>&lt;int&gt;</th><th scope=col>&lt;int&gt;</th><th scope=col>&lt;int&gt;</th><th scope=col>&lt;dbl&gt;</th><th scope=col>&lt;dbl&gt;</th><th scope=col>&lt;dbl&gt;</th><th scope=col>&lt;dbl&gt;</th><th scope=col>&lt;chr&gt;</th></tr>\n",
              "</thead>\n",
              "<tbody>\n",
              "\t<tr><td>Fontana et al. (Data_Class)</td><td>2012</td><td>12</td><td>12</td><td>53745.8333</td><td>19671.835</td><td>53466.709</td><td>19542.397</td><td>M_5_1</td></tr>\n",
              "\t<tr><td>Fontana et al. (God_Class) </td><td>2012</td><td>12</td><td>12</td><td>53745.8333</td><td>19671.835</td><td>53751.468</td><td>19634.294</td><td>M_5_2</td></tr>\n",
              "\t<tr><td>Mehta et al.               </td><td>2018</td><td>12</td><td>12</td><td>  962.2727</td><td>  374.941</td><td> 1111.909</td><td>  374.941</td><td>M_9  </td></tr>\n",
              "\t<tr><td>Guggulothu and Moiz        </td><td>2019</td><td> 2</td><td> 2</td><td> 6088.0000</td><td> 1006.000</td><td> 5535.000</td><td> 1006.000</td><td>M_11 </td></tr>\n",
              "\t<tr><td>Martins et al.             </td><td>2020</td><td> 3</td><td> 3</td><td>    4.0000</td><td>    0.000</td><td>    3.000</td><td>    0.000</td><td>M_13 </td></tr>\n",
              "</tbody>\n",
              "</table>\n"
            ],
            "text/markdown": "\nA data.frame: 5 × 9\n\n| Study &lt;chr&gt; | Year &lt;int&gt; | num_methods_before &lt;int&gt; | num_methods_after &lt;int&gt; | mean_before &lt;dbl&gt; | std_before &lt;dbl&gt; | mean_after &lt;dbl&gt; | std_after &lt;dbl&gt; | type &lt;chr&gt; |\n|---|---|---|---|---|---|---|---|---|\n| Fontana et al. (Data_Class) | 2012 | 12 | 12 | 53745.8333 | 19671.835 | 53466.709 | 19542.397 | M_5_1 |\n| Fontana et al. (God_Class)  | 2012 | 12 | 12 | 53745.8333 | 19671.835 | 53751.468 | 19634.294 | M_5_2 |\n| Mehta et al.                | 2018 | 12 | 12 |   962.2727 |   374.941 |  1111.909 |   374.941 | M_9   |\n| Guggulothu and Moiz         | 2019 |  2 |  2 |  6088.0000 |  1006.000 |  5535.000 |  1006.000 | M_11  |\n| Martins et al.              | 2020 |  3 |  3 |     4.0000 |     0.000 |     3.000 |     0.000 | M_13  |\n\n",
            "text/latex": "A data.frame: 5 × 9\n\\begin{tabular}{lllllllll}\n Study & Year & num\\_methods\\_before & num\\_methods\\_after & mean\\_before & std\\_before & mean\\_after & std\\_after & type\\\\\n <chr> & <int> & <int> & <int> & <dbl> & <dbl> & <dbl> & <dbl> & <chr>\\\\\n\\hline\n\t Fontana et al. (Data\\_Class) & 2012 & 12 & 12 & 53745.8333 & 19671.835 & 53466.709 & 19542.397 & M\\_5\\_1\\\\\n\t Fontana et al. (God\\_Class)  & 2012 & 12 & 12 & 53745.8333 & 19671.835 & 53751.468 & 19634.294 & M\\_5\\_2\\\\\n\t Mehta et al.                & 2018 & 12 & 12 &   962.2727 &   374.941 &  1111.909 &   374.941 & M\\_9  \\\\\n\t Guggulothu and Moiz         & 2019 &  2 &  2 &  6088.0000 &  1006.000 &  5535.000 &  1006.000 & M\\_11 \\\\\n\t Martins et al.              & 2020 &  3 &  3 &     4.0000 &     0.000 &     3.000 &     0.000 & M\\_13 \\\\\n\\end{tabular}\n",
            "text/plain": [
              "  Study                       Year num_methods_before num_methods_after\n",
              "1 Fontana et al. (Data_Class) 2012 12                 12               \n",
              "2 Fontana et al. (God_Class)  2012 12                 12               \n",
              "3 Mehta et al.                2018 12                 12               \n",
              "4 Guggulothu and Moiz         2019  2                  2               \n",
              "5 Martins et al.              2020  3                  3               \n",
              "  mean_before std_before mean_after std_after type \n",
              "1 53745.8333  19671.835  53466.709  19542.397 M_5_1\n",
              "2 53745.8333  19671.835  53751.468  19634.294 M_5_2\n",
              "3   962.2727    374.941   1111.909    374.941 M_9  \n",
              "4  6088.0000   1006.000   5535.000   1006.000 M_11 \n",
              "5     4.0000      0.000      3.000      0.000 M_13 "
            ]
          },
          "metadata": {}
        }
      ],
      "source": [
        "our_data <- read.csv('sources_for_ma5.csv')\n",
        "our_data"
      ]
    },
    {
      "cell_type": "markdown",
      "source": [
        "Explore the data"
      ],
      "metadata": {
        "id": "YOMTwRrz-EyK"
      }
    },
    {
      "cell_type": "code",
      "execution_count": null,
      "metadata": {
        "colab": {
          "base_uri": "https://localhost:8080/"
        },
        "id": "9ElYOOtn2_yJ",
        "outputId": "8a1df167-798b-48df-86bf-4be870a7c7e3"
      },
      "outputs": [
        {
          "output_type": "stream",
          "name": "stdout",
          "text": [
            "'data.frame':\t5 obs. of  9 variables:\n",
            " $ Study             : chr  \"Fontana et al. (Data_Class)\" \"Fontana et al. (God_Class)\" \"Mehta et al.\" \"Guggulothu and Moiz\" ...\n",
            " $ Year              : int  2012 2012 2018 2019 2020\n",
            " $ num_methods_before: int  12 12 12 2 3\n",
            " $ num_methods_after : int  12 12 12 2 3\n",
            " $ mean_before       : num  53746 53746 962 6088 4\n",
            " $ std_before        : num  19672 19672 375 1006 0\n",
            " $ mean_after        : num  53467 53751 1112 5535 3\n",
            " $ std_after         : num  19542 19634 375 1006 0\n",
            " $ type              : chr  \"M_5_1\" \"M_5_2\" \"M_9\" \"M_11\" ...\n"
          ]
        }
      ],
      "source": [
        "str(our_data) #structure of our dataset"
      ]
    },
    {
      "cell_type": "code",
      "execution_count": null,
      "metadata": {
        "colab": {
          "base_uri": "https://localhost:8080/",
          "height": 34
        },
        "id": "3klZJZEG3K-M",
        "outputId": "24907302-17e5-4a91-82aa-c535a0112972"
      },
      "outputs": [
        {
          "output_type": "display_data",
          "data": {
            "text/html": [
              "2"
            ],
            "text/markdown": "2",
            "text/latex": "2",
            "text/plain": [
              "[1] 2"
            ]
          },
          "metadata": {}
        }
      ],
      "source": [
        "min(our_data$num_methods_after) #minimum number of experiments done in the included papers"
      ]
    },
    {
      "cell_type": "code",
      "execution_count": null,
      "metadata": {
        "colab": {
          "base_uri": "https://localhost:8080/",
          "height": 394
        },
        "id": "1_w0BcXX3YB2",
        "outputId": "f0a90df9-9a0a-4fa1-cac4-92ba6f4a95c0"
      },
      "outputs": [
        {
          "output_type": "display_data",
          "data": {
            "text/plain": [
              "    Study                Year      num_methods_before num_methods_after\n",
              " Length:5           Min.   :2012   Min.   : 2.0       Min.   : 2.0     \n",
              " Class :character   1st Qu.:2012   1st Qu.: 3.0       1st Qu.: 3.0     \n",
              " Mode  :character   Median :2018   Median :12.0       Median :12.0     \n",
              "                    Mean   :2016   Mean   : 8.2       Mean   : 8.2     \n",
              "                    3rd Qu.:2019   3rd Qu.:12.0       3rd Qu.:12.0     \n",
              "                    Max.   :2020   Max.   :12.0       Max.   :12.0     \n",
              "  mean_before        std_before        mean_after      std_after      \n",
              " Min.   :    4.0   Min.   :    0.0   Min.   :    3   Min.   :    0.0  \n",
              " 1st Qu.:  962.3   1st Qu.:  374.9   1st Qu.: 1112   1st Qu.:  374.9  \n",
              " Median : 6088.0   Median : 1006.0   Median : 5535   Median : 1006.0  \n",
              " Mean   :22909.2   Mean   : 8144.9   Mean   :22774   Mean   : 8111.5  \n",
              " 3rd Qu.:53745.8   3rd Qu.:19671.8   3rd Qu.:53467   3rd Qu.:19542.4  \n",
              " Max.   :53745.8   Max.   :19671.8   Max.   :53751   Max.   :19634.3  \n",
              "     type          \n",
              " Length:5          \n",
              " Class :character  \n",
              " Mode  :character  \n",
              "                   \n",
              "                   \n",
              "                   "
            ]
          },
          "metadata": {}
        }
      ],
      "source": [
        "summary(our_data) #the descriptive statistics of our dataset"
      ]
    },
    {
      "cell_type": "markdown",
      "source": [
        "Perform meta analysis -- Random effects model"
      ],
      "metadata": {
        "id": "j2kEBbgI-Iex"
      }
    },
    {
      "cell_type": "code",
      "execution_count": 8,
      "metadata": {
        "colab": {
          "base_uri": "https://localhost:8080/",
          "height": 437
        },
        "id": "MfSqVYqpDs8o",
        "outputId": "0b99ee33-9233-4dac-dfef-4b087e0299f4"
      },
      "outputs": [
        {
          "output_type": "display_data",
          "data": {
            "text/plain": [
              "plot without title"
            ],
            "image/png": "[encoded data removed]"
          },
          "metadata": {
            "image/png": {
              "width": 420,
              "height": 420
            }
          }
        }
      ],
      "source": [
        "ma_random <- metacont(\n",
        "                  n.c = our_data$num_methods_before,\n",
        "                  mean.c = our_data$mean_before,\n",
        "                  sd.c = our_data$std_before,\n",
        "                  label.c = 'Before Refactoring',\n",
        "                  n.e = our_data$num_methods_after,\n",
        "                  mean.e = our_data$mean_after,\n",
        "                  sd.e = our_data$std_after,\n",
        "                  label.e = 'After Refactoring',\n",
        "                  studlab = our_data$Study,\n",
        "                  common = FALSE,\n",
        "                  random = TRUE,\n",
        "                  method.tau = \"SJ\",\n",
        "                  method.random.ci = TRUE,\n",
        "                  prediction = FALSE,\n",
        "                  sm = \"SMD\",\n",
        "                  warn=FALSE,\n",
        "                  print.I2 = FALSE,\n",
        "                  details=FALSE,\n",
        "                  pooled.events=FALSE,\n",
        "                  pooled.totals=FALSE,\n",
        "                  pooled.times=FALSE,\n",
        "                  study.results=FALSE,\n",
        "                  print.tau2=FALSE,\n",
        "                  test.overall.random=FALSE,\n",
        "                  print.stat=FALSE,\n",
        "                  details=FALSE,\n",
        "                  bottom.lr=FALSE\n",
        "                  )\n",
        "\n",
        "\n",
        "forest(ma_random, leftcols=c(\"studlab\"),\n",
        "                  print.I2.ci=FALSE,\n",
        "                  print.tau2.ci=FALSE,\n",
        "                  overall.hetstat=FALSE,\n",
        "                  print.tau=FALSE,\n",
        "                  print.tau.ci=FALSE,\n",
        "                  print.Q=FALSE,\n",
        "                  print.pval.Q=FALSE)"
      ]
    },
    {
      "cell_type": "code",
      "source": [
        "forest(ma_random, layout = \"meta\", prediction=FALSE)"
      ],
      "metadata": {
        "colab": {
          "base_uri": "https://localhost:8080/",
          "height": 437
        },
        "id": "jwn2QoTS-3zC",
        "outputId": "891a87bb-862b-46d9-88c1-0824bb74348d"
      },
      "execution_count": 9,
      "outputs": [
        {
          "output_type": "display_data",
          "data": {
            "text/plain": [
              "plot without title"
            ],
            "image/png": "[encoded data removed]"
          },
          "metadata": {
            "image/png": {
              "width": 420,
              "height": 420
            }
          }
        }
      ]
    },
    {
      "cell_type": "code",
      "execution_count": 10,
      "metadata": {
        "colab": {
          "base_uri": "https://localhost:8080/",
          "height": 34
        },
        "id": "SXuFy3cjD8Lg",
        "outputId": "55dc3083-dacb-43f3-f50c-df91ad6f302e"
      },
      "outputs": [
        {
          "output_type": "display_data",
          "data": {
            "text/html": [
              "<strong>pdf:</strong> 2"
            ],
            "text/markdown": "**pdf:** 2",
            "text/latex": "\\textbf{pdf:} 2",
            "text/plain": [
              "pdf \n",
              "  2 "
            ]
          },
          "metadata": {}
        }
      ],
      "source": [
        "svg(\"before_after_refactoring_short.svg\", width=20, height=8)\n",
        "forest(ma_random, leftcols=c(\"studlab\"),\n",
        "                  print.I2.ci=FALSE,\n",
        "                  print.tau2.ci=FALSE,\n",
        "                  overall.hetstat=FALSE,\n",
        "                  print.tau=FALSE,\n",
        "                  print.tau.ci=FALSE,\n",
        "                  print.Q=FALSE,\n",
        "                  print.pval.Q=FALSE)\n",
        "dev.off()"
      ]
    },
    {
      "cell_type": "code",
      "execution_count": 11,
      "metadata": {
        "colab": {
          "base_uri": "https://localhost:8080/",
          "height": 34
        },
        "id": "Sa2O1AOx3pAk",
        "outputId": "f152f271-30bb-4fda-a2c1-8d18460c0275"
      },
      "outputs": [
        {
          "output_type": "display_data",
          "data": {
            "text/html": [
              "<strong>pdf:</strong> 2"
            ],
            "text/markdown": "**pdf:** 2",
            "text/latex": "\\textbf{pdf:} 2",
            "text/plain": [
              "pdf \n",
              "  2 "
            ]
          },
          "metadata": {}
        }
      ],
      "source": [
        "svg(\"before_after_refactoring_all.svg\", width=12, height=5)\n",
        "forest(ma_random, test.overall.random=TRUE)\n",
        "dev.off()"
      ]
    }
  ],
  "metadata": {
    "colab": {
      "provenance": []
    },
    "kernelspec": {
      "display_name": "R",
      "name": "ir"
    }
  },
  "nbformat": 4,
  "nbformat_minor": 0
}